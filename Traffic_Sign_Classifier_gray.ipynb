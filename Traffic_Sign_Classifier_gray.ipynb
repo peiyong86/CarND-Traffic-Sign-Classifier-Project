{
 "cells": [
  {
   "cell_type": "markdown",
   "metadata": {},
   "source": [
    "# Self-Driving Car Engineer Nanodegree\n",
    "\n",
    "## Deep Learning\n",
    "\n",
    "## Project: Build a Traffic Sign Recognition Classifier\n",
    "\n",
    "In this notebook, a template is provided for you to implement your functionality in stages, which is required to successfully complete this project. If additional code is required that cannot be included in the notebook, be sure that the Python code is successfully imported and included in your submission if necessary. \n",
    "\n",
    "> **Note**: Once you have completed all of the code implementations, you need to finalize your work by exporting the iPython Notebook as an HTML document. Before exporting the notebook to html, all of the code cells need to have been run so that reviewers can see the final implementation and output. You can then export the notebook by using the menu above and navigating to  \\n\",\n",
    "    \"**File -> Download as -> HTML (.html)**. Include the finished document along with this notebook as your submission. \n",
    "\n",
    "In addition to implementing code, there is a writeup to complete. The writeup should be completed in a separate file, which can be either a markdown file or a pdf document. There is a [write up template](https://github.com/udacity/CarND-Traffic-Sign-Classifier-Project/blob/master/writeup_template.md) that can be used to guide the writing process. Completing the code template and writeup template will cover all of the [rubric points](https://review.udacity.com/#!/rubrics/481/view) for this project.\n",
    "\n",
    "The [rubric](https://review.udacity.com/#!/rubrics/481/view) contains \"Stand Out Suggestions\" for enhancing the project beyond the minimum requirements. The stand out suggestions are optional. If you decide to pursue the \"stand out suggestions\", you can include the code in this Ipython notebook and also discuss the results in the writeup file.\n",
    "\n",
    "\n",
    ">**Note:** Code and Markdown cells can be executed using the **Shift + Enter** keyboard shortcut. In addition, Markdown cells can be edited by typically double-clicking the cell to enter edit mode."
   ]
  },
  {
   "cell_type": "markdown",
   "metadata": {},
   "source": [
    "---\n",
    "## Step 0: Load The Data"
   ]
  },
  {
   "cell_type": "code",
   "execution_count": 1,
   "metadata": {
    "collapsed": false
   },
   "outputs": [],
   "source": [
    "# Load pickled data\n",
    "import pickle\n",
    "\n",
    "# TODO: Fill this in based on where you saved the training and testing data\n",
    "\n",
    "training_file ='./data/train.p'\n",
    "validation_file='./data/valid.p'\n",
    "testing_file ='./data/test.p'\n",
    "\n",
    "with open(training_file, mode='rb') as f:\n",
    "    train = pickle.load(f)\n",
    "with open(validation_file, mode='rb') as f:\n",
    "    valid = pickle.load(f)\n",
    "with open(testing_file, mode='rb') as f:\n",
    "    test = pickle.load(f)\n",
    "    \n",
    "X_train, y_train = train['features'], train['labels']\n",
    "X_valid, y_valid = valid['features'], valid['labels']\n",
    "X_test, y_test = test['features'], test['labels']"
   ]
  },
  {
   "cell_type": "markdown",
   "metadata": {},
   "source": [
    "---\n",
    "\n",
    "## Step 1: Dataset Summary & Exploration\n",
    "\n",
    "The pickled data is a dictionary with 4 key/value pairs:\n",
    "\n",
    "- `'features'` is a 4D array containing raw pixel data of the traffic sign images, (num examples, width, height, channels).\n",
    "- `'labels'` is a 1D array containing the label/class id of the traffic sign. The file `signnames.csv` contains id -> name mappings for each id.\n",
    "- `'sizes'` is a list containing tuples, (width, height) representing the original width and height the image.\n",
    "- `'coords'` is a list containing tuples, (x1, y1, x2, y2) representing coordinates of a bounding box around the sign in the image. **THESE COORDINATES ASSUME THE ORIGINAL IMAGE. THE PICKLED DATA CONTAINS RESIZED VERSIONS (32 by 32) OF THESE IMAGES**\n",
    "\n",
    "Complete the basic data summary below. Use python, numpy and/or pandas methods to calculate the data summary rather than hard coding the results. For example, the [pandas shape method](http://pandas.pydata.org/pandas-docs/stable/generated/pandas.DataFrame.shape.html) might be useful for calculating some of the summary results. "
   ]
  },
  {
   "cell_type": "markdown",
   "metadata": {},
   "source": [
    "### Provide a Basic Summary of the Data Set Using Python, Numpy and/or Pandas"
   ]
  },
  {
   "cell_type": "code",
   "execution_count": 2,
   "metadata": {
    "collapsed": false
   },
   "outputs": [
    {
     "name": "stdout",
     "output_type": "stream",
     "text": [
      "Number of training examples = 34799\n",
      "Number of validation examples = 4410\n",
      "Number of testing examples = 12630\n",
      "Image data shape = (32, 32, 3)\n",
      "Number of classes = 43\n"
     ]
    }
   ],
   "source": [
    "### Replace each question mark with the appropriate value. \n",
    "### Use python, pandas or numpy methods rather than hard coding the results\n",
    "\n",
    "# TODO: Number of training examples\n",
    "n_train = len(y_train)\n",
    "\n",
    "# TODO: Number of validation examples\n",
    "n_validation = len(y_valid)\n",
    "\n",
    "# TODO: Number of testing examples.\n",
    "n_test = len(y_test)\n",
    "\n",
    "# TODO: What's the shape of an traffic sign image?\n",
    "image_shape = X_train.shape[1:]\n",
    "\n",
    "# TODO: How many unique classes/labels there are in the dataset.\n",
    "n_classes = len(set(train['labels']))\n",
    "\n",
    "print(\"Number of training examples =\", n_train)\n",
    "print(\"Number of validation examples =\", n_validation)\n",
    "print(\"Number of testing examples =\", n_test)\n",
    "print(\"Image data shape =\", image_shape)\n",
    "print(\"Number of classes =\", n_classes)"
   ]
  },
  {
   "cell_type": "markdown",
   "metadata": {},
   "source": [
    "### Include an exploratory visualization of the dataset"
   ]
  },
  {
   "cell_type": "markdown",
   "metadata": {},
   "source": [
    "Visualize the German Traffic Signs Dataset using the pickled file(s). This is open ended, suggestions include: plotting traffic sign images, plotting the count of each sign, etc. \n",
    "\n",
    "The [Matplotlib](http://matplotlib.org/) [examples](http://matplotlib.org/examples/index.html) and [gallery](http://matplotlib.org/gallery.html) pages are a great resource for doing visualizations in Python.\n",
    "\n",
    "**NOTE:** It's recommended you start with something simple first. If you wish to do more, come back to it after you've completed the rest of the sections. It can be interesting to look at the distribution of classes in the training, validation and test set. Is the distribution the same? Are there more examples of some classes than others?"
   ]
  },
  {
   "cell_type": "code",
   "execution_count": 3,
   "metadata": {
    "collapsed": false
   },
   "outputs": [
    {
     "data": {
      "image/png": "[encoded data removed]",
      "text/plain": [
       "<matplotlib.figure.Figure at 0x7f2a6678b518>"
      ]
     },
     "metadata": {},
     "output_type": "display_data"
    },
    {
     "data": {
      "image/png": "[encoded data removed]",
      "text/plain": [
       "<matplotlib.figure.Figure at 0x7f2ad94aa2e8>"
      ]
     },
     "metadata": {},
     "output_type": "display_data"
    }
   ],
   "source": [
    "### Data exploration visualization code goes here.\n",
    "### Feel free to use as many code cells as needed.\n",
    "import matplotlib.pyplot as plt\n",
    "import random\n",
    "# Visualizations will be shown in the notebook.\n",
    "%matplotlib inline\n",
    "binwidth = 1\n",
    "plt.figure(1)\n",
    "n, bins, patches = plt.hist(y_train, bins=range(min(y_train), max(y_train) + binwidth + 1, binwidth))\n",
    "plt.title(\"distribution of classes\")\n",
    "plt.xlabel(\"classes\")\n",
    "plt.ylabel(\"samples\")\n",
    "plt.grid(True)\n",
    "\n",
    "n_image_show = 10\n",
    "index_image_show = random.sample(range(n_train), n_image_show)\n",
    "fig = plt.figure(2, figsize=(10,10))\n",
    "for i in range(n_image_show):\n",
    "    index = index_image_show[i]\n",
    "    im = X_train[index]\n",
    "    fig.add_subplot(1,10,i+1)\n",
    "    plt.imshow(im.astype('uint8'))"
   ]
  },
  {
   "cell_type": "markdown",
   "metadata": {},
   "source": [
    "----\n",
    "\n",
    "## Step 2: Design and Test a Model Architecture\n",
    "\n",
    "Design and implement a deep learning model that learns to recognize traffic signs. Train and test your model on the [German Traffic Sign Dataset](http://benchmark.ini.rub.de/?section=gtsrb&subsection=dataset).\n",
    "\n",
    "The LeNet-5 implementation shown in the [classroom](https://classroom.udacity.com/nanodegrees/nd013/parts/fbf77062-5703-404e-b60c-95b78b2f3f9e/modules/6df7ae49-c61c-4bb2-a23e-6527e69209ec/lessons/601ae704-1035-4287-8b11-e2c2716217ad/concepts/d4aca031-508f-4e0b-b493-e7b706120f81) at the end of the CNN lesson is a solid starting point. You'll have to change the number of classes and possibly the preprocessing, but aside from that it's plug and play! \n",
    "\n",
    "With the LeNet-5 solution from the lecture, you should expect a validation set accuracy of about 0.89. To meet specifications, the validation set accuracy will need to be at least 0.93. It is possible to get an even higher accuracy, but 0.93 is the minimum for a successful project submission. \n",
    "\n",
    "There are various aspects to consider when thinking about this problem:\n",
    "\n",
    "- Neural network architecture (is the network over or underfitting?)\n",
    "- Play around preprocessing techniques (normalization, rgb to grayscale, etc)\n",
    "- Number of examples per label (some have more than others).\n",
    "- Generate fake data.\n",
    "\n",
    "Here is an example of a [published baseline model on this problem](http://yann.lecun.com/exdb/publis/pdf/sermanet-ijcnn-11.pdf). It's not required to be familiar with the approach used in the paper but, it's good practice to try to read papers like these."
   ]
  },
  {
   "cell_type": "markdown",
   "metadata": {},
   "source": [
    "### Pre-process the Data Set (normalization, grayscale, etc.)"
   ]
  },
  {
   "cell_type": "markdown",
   "metadata": {},
   "source": [
    "Minimally, the image data should be normalized so that the data has mean zero and equal variance. For image data, `(pixel - 128)/ 128` is a quick way to approximately normalize the data and can be used in this project. \n",
    "\n",
    "Other pre-processing steps are optional. You can try different techniques to see if it improves performance. \n",
    "\n",
    "Use the code cell (or multiple code cells, if necessary) to implement the first step of your project."
   ]
  },
  {
   "cell_type": "code",
   "execution_count": 4,
   "metadata": {
    "collapsed": false
   },
   "outputs": [
    {
     "name": "stdout",
     "output_type": "stream",
     "text": [
      "After duplication, total num of training set is 86430.\n",
      "Each class has 2010 samples.\n"
     ]
    }
   ],
   "source": [
    "### Preprocess the data here. It is required to normalize the data. Other preprocessing steps could include \n",
    "### converting to grayscale, etc.\n",
    "### Feel free to use as many code cells as needed.\n",
    "import numpy as np\n",
    "from sklearn.utils import shuffle\n",
    "\n",
    "hist, bin_edges = np.histogram(y_train, bins=range(0,44))\n",
    "maxnum_per_class = max(hist)\n",
    "\n",
    "newdata = []\n",
    "newlabel = []\n",
    "\n",
    "for i, n in enumerate(hist):\n",
    "    repnum = np.ceil(maxnum_per_class / float(n))\n",
    "    oridata = X_train[y_train == i]\n",
    "    augdata = np.repeat(oridata, repnum, axis=0)\n",
    "    augdata = shuffle(augdata)\n",
    "    \n",
    "    newdata.append(augdata[:maxnum_per_class])\n",
    "    newlabel += [i]*maxnum_per_class\n",
    "\n",
    "X_train = np.concatenate(newdata, axis=0)\n",
    "y_train = np.array(newlabel)\n",
    "\n",
    "print(\"After duplication, total num of training set is {}.\".format(\n",
    "    len(y_train)))\n",
    "print(\"Each class has {} samples.\".format(\n",
    "    maxnum_per_class))"
   ]
  },
  {
   "cell_type": "code",
   "execution_count": 5,
   "metadata": {
    "collapsed": true
   },
   "outputs": [],
   "source": [
    "### Define jitter function\n",
    "import scipy.ndimage\n",
    "from multiprocessing.dummy import Pool as ThreadPool\n",
    "import time\n",
    "import cv2\n",
    "\n",
    "def jitter(im):\n",
    "    # rescale\n",
    "    scale = np.random.rand()*0.1 + 0.9\n",
    "    im2 = cv2.resize(im, None, fx=scale, fy=scale)\n",
    "    if im2.shape[0] > 32:\n",
    "        mid = im2.shape[0]/2\n",
    "        im2 = im2[mid-16:mid+16, mid-16:mid+16]\n",
    "    elif im2.shape[0] < 32:\n",
    "        diffwidth = 32 - im2.shape[0]\n",
    "        diffwidth_ = int(diffwidth/2)\n",
    "        if diffwidth%2 == 0:\n",
    "            padwidth = ((diffwidth_, diffwidth_), (diffwidth_, diffwidth_))\n",
    "        else:\n",
    "            padwidth = ((diffwidth_, diffwidth_ + 1), (diffwidth_, diffwidth_ + 1))\n",
    "        im2 = np.lib.pad(im2, padwidth, 'constant', constant_values=(0, 0))\n",
    "    \n",
    "    # shift\n",
    "    shiftdis = (np.random.randint(-2, 3), np.random.randint(-2, 3))\n",
    "    im2 = scipy.ndimage.shift(im2, shiftdis, cval=0)\n",
    "    \n",
    "    # rotate\n",
    "    im2 = scipy.ndimage.rotate(im2, np.random.randint(-15,16), reshape=False)\n",
    "    \n",
    "    return im2\n",
    "\n",
    "pool = ThreadPool(8)"
   ]
  },
  {
   "cell_type": "code",
   "execution_count": 6,
   "metadata": {
    "collapsed": false
   },
   "outputs": [],
   "source": [
    "# transfer data to gray scale\n",
    "def rgb2gray(data):\n",
    "    newdata = np.empty(list(data.shape[:3]) + [1], dtype = np.uint8)\n",
    "    newdata[:, :, :, 0] = data[:, :, :, 0]*0.299 + data[:, :, :, 1]*0.587 + data[:, :, :, 2]*0.114\n",
    "    return newdata\n",
    "\n",
    "X_train = rgb2gray(X_train)\n",
    "X_test = rgb2gray(X_test)\n",
    "X_valid = rgb2gray(X_valid)"
   ]
  },
  {
   "cell_type": "code",
   "execution_count": 7,
   "metadata": {
    "collapsed": false
   },
   "outputs": [
    {
     "data": {
      "image/png": "[encoded data removed]",
      "text/plain": [
       "<matplotlib.figure.Figure at 0x7f2a63257e48>"
      ]
     },
     "metadata": {},
     "output_type": "display_data"
    }
   ],
   "source": [
    "### visulize augmented gray scale images\n",
    "%matplotlib inline\n",
    "n_image_show = 10\n",
    "fig = plt.figure(1, figsize=(10,10))\n",
    "for i in range(n_image_show):\n",
    "    index = index_image_show[i]\n",
    "    im = jitter(X_train[index])\n",
    "    fig.add_subplot(1,10,i+1)\n",
    "    plt.imshow(im.astype('uint8'), cmap='gray')"
   ]
  },
  {
   "cell_type": "code",
   "execution_count": 8,
   "metadata": {
    "collapsed": true
   },
   "outputs": [],
   "source": [
    "# normalize data to 0 mean and 1 var\n",
    "def normalize(data):\n",
    "    return (data - 128.)/ 128.\n",
    "\n",
    "X_train = normalize(X_train)\n",
    "X_test = normalize(X_test)\n",
    "X_valid = normalize(X_valid)"
   ]
  },
  {
   "cell_type": "markdown",
   "metadata": {},
   "source": [
    "### Model Architecture"
   ]
  },
  {
   "cell_type": "code",
   "execution_count": 9,
   "metadata": {
    "collapsed": true
   },
   "outputs": [],
   "source": [
    "### Define your architecture here.\n",
    "### Feel free to use as many code cells as needed.\n",
    "import tensorflow as tf\n",
    "\n",
    "from tensorflow.contrib.layers import flatten\n",
    "\n",
    "def MyNet(x, dropout):    \n",
    "    # Arguments used for tf.truncated_normal, randomly defines variables for the weights and biases for each layer\n",
    "    mu = 0\n",
    "    sigma = 0.1\n",
    "    \n",
    "    # SOLUTION: Layer 1: Convolutional. Input = 32x32x1. Output = 28x28x12.\n",
    "    conv1_W = tf.Variable(tf.truncated_normal(shape=(5, 5, 1, 12), mean = mu, stddev = sigma))\n",
    "    conv1_b = tf.Variable(tf.zeros(12))\n",
    "    conv1   = tf.nn.conv2d(x, conv1_W, strides=[1, 1, 1, 1], padding='VALID') + conv1_b\n",
    "\n",
    "    # SOLUTION: Activation.\n",
    "    conv1 = tf.nn.relu(conv1)\n",
    "\n",
    "    # SOLUTION: Pooling. Input = 28x28x12. Output = 14x14x12.\n",
    "    conv1 = tf.nn.max_pool(conv1, ksize=[1, 2, 2, 1], strides=[1, 2, 2, 1], padding='VALID')\n",
    "\n",
    "    # SOLUTION: Layer 2: Convolutional. Output = 10x10x24.\n",
    "    conv2_W = tf.Variable(tf.truncated_normal(shape=(5, 5, 12, 24), mean = mu, stddev = sigma))\n",
    "    conv2_b = tf.Variable(tf.zeros(24))\n",
    "    conv2   = tf.nn.conv2d(conv1, conv2_W, strides=[1, 1, 1, 1], padding='VALID') + conv2_b\n",
    "    \n",
    "    # SOLUTION: Activation.\n",
    "    conv2 = tf.nn.relu(conv2)\n",
    "\n",
    "    # SOLUTION: Pooling. Input = 10x10x24. Output = 5x5x24.\n",
    "    conv2 = tf.nn.max_pool(conv2, ksize=[1, 2, 2, 1], strides=[1, 2, 2, 1], padding='VALID')\n",
    "    \n",
    "    # SOLUTION: Layer 3: Convolutional. Output = 4x4x48.\n",
    "    conv3_W = tf.Variable(tf.truncated_normal(shape=(2, 2, 24, 48), mean = mu, stddev = sigma))\n",
    "    conv3_b = tf.Variable(tf.zeros(48))\n",
    "    conv3   = tf.nn.conv2d(conv2, conv3_W, strides=[1, 1, 1, 1], padding='VALID') + conv3_b\n",
    "    \n",
    "    # SOLUTION: Activation.\n",
    "    conv3 = tf.nn.relu(conv3)\n",
    "    \n",
    "    # SOLUTION: Flatten.\n",
    "    fc0_0   = flatten(conv2) # output = 600\n",
    "    fc0_1   = flatten(conv3) # output = 768\n",
    "    \n",
    "    fc0 = tf.concat([fc0_0, fc0_1], 1) # output = 1368\n",
    "    \n",
    "    # Apply Dropout\n",
    "    fc0 = tf.nn.dropout(fc0, dropout)\n",
    "    \n",
    "    # SOLUTION: Layer 3: Fully Connected. Input = 1368. Output = 512.\n",
    "    fc1_W = tf.Variable(tf.truncated_normal(shape=(1368, 512), mean = mu, stddev = sigma))\n",
    "    fc1_b = tf.Variable(tf.zeros(512))\n",
    "    fc1   = tf.matmul(fc0, fc1_W) + fc1_b\n",
    "    \n",
    "    # SOLUTION: Activation.\n",
    "    fc1    = tf.nn.relu(fc1)\n",
    "    \n",
    "    # Apply Dropout\n",
    "    fc1 = tf.nn.dropout(fc1, dropout)\n",
    "\n",
    "    # SOLUTION: Layer 4: Fully Connected. Input = 512. Output = 256.\n",
    "    fc2_W  = tf.Variable(tf.truncated_normal(shape=(512, 256), mean = mu, stddev = sigma))\n",
    "    fc2_b  = tf.Variable(tf.zeros(256))\n",
    "    fc2    = tf.matmul(fc1, fc2_W) + fc2_b\n",
    "    \n",
    "    # SOLUTION: Activation.\n",
    "    fc2    = tf.nn.relu(fc2)\n",
    "    \n",
    "    # Apply Dropout\n",
    "    fc2 = tf.nn.dropout(fc2, dropout)\n",
    "\n",
    "    # SOLUTION: Layer 5: Fully Connected. Input = 256. Output = n_classes.\n",
    "    fc3_W  = tf.Variable(tf.truncated_normal(shape=(256, n_classes), mean = mu, stddev = sigma))\n",
    "    fc3_b  = tf.Variable(tf.zeros(n_classes))\n",
    "    logits = tf.matmul(fc2, fc3_W) + fc3_b\n",
    "    \n",
    "    return logits"
   ]
  },
  {
   "cell_type": "code",
   "execution_count": 10,
   "metadata": {
    "collapsed": true
   },
   "outputs": [],
   "source": [
    "x = tf.placeholder(tf.float32, (None, 32, 32, 1))\n",
    "y = tf.placeholder(tf.int32, (None))\n",
    "one_hot_y = tf.one_hot(y, n_classes)\n",
    "keep_prob = tf.placeholder(tf.float32) #dropout (keep probability)\n",
    "\n",
    "logits = MyNet(x, keep_prob)\n",
    "cross_entropy = tf.nn.softmax_cross_entropy_with_logits(labels=one_hot_y, logits=logits)"
   ]
  },
  {
   "cell_type": "markdown",
   "metadata": {},
   "source": [
    "### Train, Validate and Test the Model"
   ]
  },
  {
   "cell_type": "markdown",
   "metadata": {},
   "source": [
    "A validation set can be used to assess how well the model is performing. A low accuracy on the training and validation\n",
    "sets imply underfitting. A high accuracy on the training set but low accuracy on the validation set implies overfitting."
   ]
  },
  {
   "cell_type": "code",
   "execution_count": 11,
   "metadata": {
    "collapsed": true
   },
   "outputs": [],
   "source": [
    "### Train your model here.\n",
    "### Calculate and report the accuracy on the training and validation set.\n",
    "### Once a final model architecture is selected, \n",
    "### the accuracy on the test set should be calculated and reported as well.\n",
    "### Feel free to use as many code cells as needed.\n",
    "MAX_EPOCHS = 200\n",
    "STOP_EPOCHS = 20 # if performance dose not increate in 20 epochs, training stop\n",
    "BATCH_SIZE = 128\n",
    "LEARN_RATE = 0.0005\n",
    "KEEP_PROB = 0.8\n",
    "\n",
    "loss_operation = tf.reduce_mean(cross_entropy)\n",
    "optimizer = tf.train.AdamOptimizer(learning_rate = LEARN_RATE)\n",
    "training_operation = optimizer.minimize(loss_operation)"
   ]
  },
  {
   "cell_type": "code",
   "execution_count": 12,
   "metadata": {
    "collapsed": true
   },
   "outputs": [],
   "source": [
    "correct_prediction = tf.equal(tf.argmax(logits, 1), tf.argmax(one_hot_y, 1))\n",
    "accuracy_operation = tf.reduce_mean(tf.cast(correct_prediction, tf.float32))\n",
    "saver = tf.train.Saver()\n",
    "\n",
    "def evaluate(X_data, y_data):\n",
    "    num_examples = len(X_data)\n",
    "    total_accuracy = 0\n",
    "    sess = tf.get_default_session()\n",
    "    for offset in range(0, num_examples, BATCH_SIZE):\n",
    "        batch_x, batch_y = X_data[offset:offset+BATCH_SIZE], y_data[offset:offset+BATCH_SIZE]\n",
    "        accuracy = sess.run(accuracy_operation, feed_dict={x: batch_x, y: batch_y, keep_prob: 1.})\n",
    "        total_accuracy += (accuracy * len(batch_x))\n",
    "    return total_accuracy / num_examples"
   ]
  },
  {
   "cell_type": "code",
   "execution_count": 13,
   "metadata": {
    "collapsed": false
   },
   "outputs": [
    {
     "name": "stdout",
     "output_type": "stream",
     "text": [
      "Training...\n",
      "\n",
      "EPOCH 1, 79.79237198829651 secs ...\n",
      "Validation Accuracy = 0.838. Max Accuracy = 0.838\n",
      "\n",
      "EPOCH 2, 83.75615239143372 secs ...\n",
      "Validation Accuracy = 0.919. Max Accuracy = 0.919\n",
      "\n",
      "EPOCH 3, 81.8637285232544 secs ...\n",
      "Validation Accuracy = 0.940. Max Accuracy = 0.940\n",
      "\n",
      "EPOCH 4, 83.12096786499023 secs ...\n",
      "Validation Accuracy = 0.942. Max Accuracy = 0.942\n",
      "\n",
      "EPOCH 5, 83.31584143638611 secs ...\n",
      "Validation Accuracy = 0.952. Max Accuracy = 0.952\n",
      "\n",
      "EPOCH 6, 81.70180749893188 secs ...\n",
      "Validation Accuracy = 0.952. Max Accuracy = 0.952\n",
      "\n",
      "EPOCH 7, 82.80695796012878 secs ...\n",
      "Validation Accuracy = 0.961. Max Accuracy = 0.961\n",
      "\n",
      "EPOCH 8, 82.3039174079895 secs ...\n",
      "Validation Accuracy = 0.957. Max Accuracy = 0.961\n",
      "\n",
      "EPOCH 9, 82.00439620018005 secs ...\n",
      "Validation Accuracy = 0.963. Max Accuracy = 0.963\n",
      "\n",
      "EPOCH 10, 83.05996537208557 secs ...\n",
      "Validation Accuracy = 0.957. Max Accuracy = 0.963\n",
      "\n",
      "EPOCH 11, 82.30677223205566 secs ...\n",
      "Validation Accuracy = 0.963. Max Accuracy = 0.963\n",
      "\n",
      "EPOCH 12, 82.13382053375244 secs ...\n",
      "Validation Accuracy = 0.963. Max Accuracy = 0.963\n",
      "\n",
      "EPOCH 13, 83.4726231098175 secs ...\n",
      "Validation Accuracy = 0.964. Max Accuracy = 0.964\n",
      "\n",
      "EPOCH 14, 83.85429549217224 secs ...\n",
      "Validation Accuracy = 0.964. Max Accuracy = 0.964\n",
      "\n",
      "EPOCH 15, 82.15673184394836 secs ...\n",
      "Validation Accuracy = 0.965. Max Accuracy = 0.965\n",
      "\n",
      "EPOCH 16, 82.84114789962769 secs ...\n",
      "Validation Accuracy = 0.954. Max Accuracy = 0.965\n",
      "\n",
      "EPOCH 17, 81.94574666023254 secs ...\n",
      "Validation Accuracy = 0.962. Max Accuracy = 0.965\n",
      "\n",
      "EPOCH 18, 81.95426654815674 secs ...\n",
      "Validation Accuracy = 0.968. Max Accuracy = 0.968\n",
      "\n",
      "EPOCH 19, 81.77874565124512 secs ...\n",
      "Validation Accuracy = 0.961. Max Accuracy = 0.968\n",
      "\n",
      "EPOCH 20, 81.40981078147888 secs ...\n",
      "Validation Accuracy = 0.968. Max Accuracy = 0.968\n",
      "\n",
      "EPOCH 21, 82.19998931884766 secs ...\n",
      "Validation Accuracy = 0.965. Max Accuracy = 0.968\n",
      "\n",
      "EPOCH 22, 82.09678769111633 secs ...\n",
      "Validation Accuracy = 0.971. Max Accuracy = 0.971\n",
      "\n",
      "EPOCH 23, 80.52629494667053 secs ...\n",
      "Validation Accuracy = 0.969. Max Accuracy = 0.971\n",
      "\n",
      "EPOCH 24, 80.97165131568909 secs ...\n",
      "Validation Accuracy = 0.964. Max Accuracy = 0.971\n",
      "\n",
      "EPOCH 25, 82.02044987678528 secs ...\n",
      "Validation Accuracy = 0.966. Max Accuracy = 0.971\n",
      "\n",
      "EPOCH 26, 82.02692484855652 secs ...\n",
      "Validation Accuracy = 0.969. Max Accuracy = 0.971\n",
      "\n",
      "EPOCH 27, 81.84766697883606 secs ...\n",
      "Validation Accuracy = 0.970. Max Accuracy = 0.971\n",
      "\n",
      "EPOCH 28, 81.91109037399292 secs ...\n",
      "Validation Accuracy = 0.961. Max Accuracy = 0.971\n",
      "\n",
      "EPOCH 29, 81.44664335250854 secs ...\n",
      "Validation Accuracy = 0.968. Max Accuracy = 0.971\n",
      "\n",
      "EPOCH 30, 84.35828900337219 secs ...\n",
      "Validation Accuracy = 0.972. Max Accuracy = 0.972\n",
      "\n",
      "EPOCH 31, 82.81905126571655 secs ...\n",
      "Validation Accuracy = 0.967. Max Accuracy = 0.972\n",
      "\n",
      "EPOCH 32, 81.63718223571777 secs ...\n",
      "Validation Accuracy = 0.970. Max Accuracy = 0.972\n",
      "\n",
      "EPOCH 33, 80.022381067276 secs ...\n",
      "Validation Accuracy = 0.969. Max Accuracy = 0.972\n",
      "\n",
      "EPOCH 34, 82.2080590724945 secs ...\n",
      "Validation Accuracy = 0.975. Max Accuracy = 0.975\n",
      "\n",
      "EPOCH 35, 83.1655502319336 secs ...\n",
      "Validation Accuracy = 0.973. Max Accuracy = 0.975\n",
      "\n",
      "EPOCH 36, 85.65180945396423 secs ...\n",
      "Validation Accuracy = 0.964. Max Accuracy = 0.975\n",
      "\n",
      "EPOCH 37, 85.59524822235107 secs ...\n",
      "Validation Accuracy = 0.969. Max Accuracy = 0.975\n",
      "\n",
      "EPOCH 38, 85.99059700965881 secs ...\n",
      "Validation Accuracy = 0.973. Max Accuracy = 0.975\n",
      "\n",
      "EPOCH 39, 86.26665329933167 secs ...\n",
      "Validation Accuracy = 0.968. Max Accuracy = 0.975\n",
      "\n",
      "EPOCH 40, 85.68143320083618 secs ...\n",
      "Validation Accuracy = 0.967. Max Accuracy = 0.975\n",
      "\n",
      "EPOCH 41, 84.54414129257202 secs ...\n",
      "Validation Accuracy = 0.969. Max Accuracy = 0.975\n",
      "\n",
      "EPOCH 42, 86.44308924674988 secs ...\n",
      "Validation Accuracy = 0.968. Max Accuracy = 0.975\n",
      "\n",
      "EPOCH 43, 83.16731834411621 secs ...\n",
      "Validation Accuracy = 0.971. Max Accuracy = 0.975\n",
      "\n",
      "EPOCH 44, 86.19414854049683 secs ...\n",
      "Validation Accuracy = 0.963. Max Accuracy = 0.975\n",
      "\n",
      "EPOCH 45, 82.00755286216736 secs ...\n",
      "Validation Accuracy = 0.971. Max Accuracy = 0.975\n",
      "\n",
      "EPOCH 46, 81.7421486377716 secs ...\n",
      "Validation Accuracy = 0.969. Max Accuracy = 0.975\n",
      "\n",
      "EPOCH 47, 84.00741052627563 secs ...\n",
      "Validation Accuracy = 0.971. Max Accuracy = 0.975\n",
      "\n",
      "EPOCH 48, 82.26387596130371 secs ...\n",
      "Validation Accuracy = 0.973. Max Accuracy = 0.975\n",
      "\n",
      "EPOCH 49, 81.96133041381836 secs ...\n",
      "Validation Accuracy = 0.969. Max Accuracy = 0.975\n",
      "\n",
      "EPOCH 50, 81.59891819953918 secs ...\n",
      "Validation Accuracy = 0.973. Max Accuracy = 0.975\n",
      "\n",
      "EPOCH 51, 81.65706539154053 secs ...\n",
      "Validation Accuracy = 0.970. Max Accuracy = 0.975\n",
      "\n",
      "EPOCH 52, 81.70081353187561 secs ...\n",
      "Validation Accuracy = 0.971. Max Accuracy = 0.975\n",
      "\n",
      "EPOCH 53, 81.70289754867554 secs ...\n",
      "Validation Accuracy = 0.970. Max Accuracy = 0.975\n",
      "\n",
      "EPOCH 54, 83.22553730010986 secs ...\n",
      "Validation Accuracy = 0.972. Max Accuracy = 0.975\n",
      "\n"
     ]
    }
   ],
   "source": [
    "import time\n",
    "from sklearn.utils import shuffle\n",
    "config = tf.ConfigProto()\n",
    "config.gpu_options.allow_growth = True\n",
    "\n",
    "max_accuracy = 0\n",
    "max_epoch = 0\n",
    "stopcounts = 0\n",
    "with tf.Session(config=config) as sess:\n",
    "    sess.run(tf.global_variables_initializer())\n",
    "    num_examples = len(X_train)\n",
    "    \n",
    "    print(\"Training...\")\n",
    "    print()\n",
    "    for i in range(MAX_EPOCHS):\n",
    "        if stopcounts == STOP_EPOCHS:\n",
    "            break\n",
    "        stopcounts += 1\n",
    "        st = time.time()\n",
    "        X_train, y_train = shuffle(X_train, y_train)\n",
    "        for offset in range(0, num_examples, BATCH_SIZE):\n",
    "            end = offset + BATCH_SIZE\n",
    "            batch_x, batch_y = X_train[offset:end], y_train[offset:end]\n",
    "            batch_x = np.array(pool.map(jitter, batch_x))\n",
    "            sess.run(training_operation, feed_dict={x: batch_x[:, :, :, np.newaxis], y: batch_y, keep_prob: KEEP_PROB})\n",
    "            \n",
    "        validation_accuracy = evaluate(X_valid, y_valid)\n",
    "        if max_accuracy < validation_accuracy:\n",
    "            stopcounts = 0\n",
    "            max_accuracy = validation_accuracy\n",
    "            max_epoch = i\n",
    "            saver.save(sess, \"./models/model_epoch{:0>4}.ckpt\".format(i))\n",
    "        et = time.time()\n",
    "        print(\"EPOCH {}, {} secs ...\".format(i+1, et-st))\n",
    "        print(\"Validation Accuracy = {:.3f}. Max Accuracy = {:.3f}\".format(\n",
    "            validation_accuracy, max_accuracy))\n",
    "        print()\n",
    "        \n",
    "        "
   ]
  },
  {
   "cell_type": "code",
   "execution_count": 14,
   "metadata": {
    "collapsed": false
   },
   "outputs": [
    {
     "name": "stdout",
     "output_type": "stream",
     "text": [
      "My final model results were:\n",
      "training set accuracy of 0.9995950480157353\n",
      "validation set accuracy of 0.9748299319727891\n",
      "test set accuracy of 0.9667458430416321\n"
     ]
    }
   ],
   "source": [
    "final_model = \"./models/model_epoch{:0>4}.ckpt\".format(max_epoch)\n",
    "with tf.Session(config=config) as sess:\n",
    "    # Restore variables from disk.\n",
    "    saver.restore(sess, final_model)\n",
    "    train_accuracy = evaluate(X_train, y_train)\n",
    "    test_accuracy = evaluate(X_test, y_test)\n",
    "    print(\"My final model results were:\")\n",
    "    print(\"training set accuracy of {}\".format(train_accuracy))\n",
    "    print(\"validation set accuracy of {}\".format(max_accuracy))\n",
    "    print(\"test set accuracy of {}\".format(test_accuracy))"
   ]
  },
  {
   "cell_type": "markdown",
   "metadata": {},
   "source": [
    "---\n",
    "\n",
    "## Step 3: Test a Model on New Images\n",
    "\n",
    "To give yourself more insight into how your model is working, download at least five pictures of German traffic signs from the web and use your model to predict the traffic sign type.\n",
    "\n",
    "You may find `signnames.csv` useful as it contains mappings from the class id (integer) to the actual sign name."
   ]
  },
  {
   "cell_type": "markdown",
   "metadata": {},
   "source": [
    "### Load and Output the Images"
   ]
  },
  {
   "cell_type": "code",
   "execution_count": 15,
   "metadata": {
    "collapsed": false
   },
   "outputs": [
    {
     "data": {
      "image/png": "[encoded data removed]",
      "text/plain": [
       "<matplotlib.figure.Figure at 0x7f2aa45ac4a8>"
      ]
     },
     "metadata": {},
     "output_type": "display_data"
    }
   ],
   "source": [
    "### Load the images and plot them here.\n",
    "### Feel free to use as many code cells as needed.\n",
    "### visulize augmented images\n",
    "import matplotlib.image as mpimg\n",
    "import cv2\n",
    "%matplotlib inline\n",
    "image_names=['./examples/30kmh.jpg',\n",
    "             './examples/sliproad.jpg',\n",
    "             './examples/stopsign.jpg',\n",
    "             './examples/bumpyroad.jpg',\n",
    "             './examples/yield.jpg',\n",
    "            ]\n",
    "n_image_show = len(image_names)\n",
    "X_data = np.empty((n_image_show, 32, 32, 3), dtype = np.float32)\n",
    "y_data = [1, 23, 14, 22, 13]\n",
    "fig = plt.figure(1, figsize=(10,10))\n",
    "for i in range(n_image_show):\n",
    "    im = mpimg.imread(image_names[i])\n",
    "    im = cv2.resize(im, (32, 32))\n",
    "    fig.add_subplot(1,n_image_show,i+1)\n",
    "    plt.imshow(im)\n",
    "    X_data[i] = np.copy(im)"
   ]
  },
  {
   "cell_type": "markdown",
   "metadata": {},
   "source": [
    "### Predict the Sign Type for Each Image"
   ]
  },
  {
   "cell_type": "code",
   "execution_count": 17,
   "metadata": {
    "collapsed": false
   },
   "outputs": [],
   "source": [
    "### Run the predictions here and use the model to output the prediction for each image.\n",
    "### Make sure to pre-process the images with the same pre-processing pipeline used earlier.\n",
    "### Feel free to use as many code cells as needed.\n",
    "sess = tf.Session(config=config)\n",
    "saver.restore(sess, final_model)\n",
    "X_data = rgb2gray(X_data)\n",
    "X_data = normalize(X_data)\n",
    "predict_prob = tf.nn.softmax(logits)\n",
    "\n",
    "pred_x = sess.run(predict_prob, feed_dict={x: X_data, keep_prob: 1.})\n",
    "accuracy = sess.run(accuracy_operation, feed_dict={x: X_data, y: y_data, keep_prob: 1.})\n",
    "pred_label_x = sess.run(tf.argmax(tf.constant(pred_x), 1))"
   ]
  },
  {
   "cell_type": "markdown",
   "metadata": {},
   "source": [
    "### Analyze Performance"
   ]
  },
  {
   "cell_type": "code",
   "execution_count": 18,
   "metadata": {
    "collapsed": false
   },
   "outputs": [
    {
     "name": "stdout",
     "output_type": "stream",
     "text": [
      "The accuracy for 5 web trafic sign images is 0.0\n",
      "Ground truth 1, predict 3.\n",
      "Ground truth 23, predict 3.\n",
      "Ground truth 14, predict 3.\n",
      "Ground truth 22, predict 3.\n",
      "Ground truth 13, predict 3.\n"
     ]
    }
   ],
   "source": [
    "### Calculate the accuracy for these 5 new images. \n",
    "### For example, if the model predicted 1 out of 5 signs correctly, it's 20% accurate on these new images.\n",
    "print(\"The accuracy for {} web trafic sign images is {}\".format(n_image_show, accuracy))\n",
    "for i in range(n_image_show):\n",
    "    print(\"Ground truth {}, predict {}.\".format(y_data[i], pred_label_x[i]))"
   ]
  },
  {
   "cell_type": "markdown",
   "metadata": {},
   "source": [
    "### Output Top 5 Softmax Probabilities For Each Image Found on the Web"
   ]
  },
  {
   "cell_type": "markdown",
   "metadata": {},
   "source": [
    "For each of the new images, print out the model's softmax probabilities to show the **certainty** of the model's predictions (limit the output to the top 5 probabilities for each image). [`tf.nn.top_k`](https://www.tensorflow.org/versions/r0.12/api_docs/python/nn.html#top_k) could prove helpful here. \n",
    "\n",
    "The example below demonstrates how tf.nn.top_k can be used to find the top k predictions for each image.\n",
    "\n",
    "`tf.nn.top_k` will return the values and indices (class ids) of the top k predictions. So if k=3, for each sign, it'll return the 3 largest probabilities (out of a possible 43) and the correspoding class ids.\n",
    "\n",
    "Take this numpy array as an example. The values in the array represent predictions. The array contains softmax probabilities for five candidate images with six possible classes. `tk.nn.top_k` is used to choose the three classes with the highest probability:\n",
    "\n",
    "```\n",
    "# (5, 6) array\n",
    "a = np.array([[ 0.24879643,  0.07032244,  0.12641572,  0.34763842,  0.07893497,\n",
    "         0.12789202],\n",
    "       [ 0.28086119,  0.27569815,  0.08594638,  0.0178669 ,  0.18063401,\n",
    "         0.15899337],\n",
    "       [ 0.26076848,  0.23664738,  0.08020603,  0.07001922,  0.1134371 ,\n",
    "         0.23892179],\n",
    "       [ 0.11943333,  0.29198961,  0.02605103,  0.26234032,  0.1351348 ,\n",
    "         0.16505091],\n",
    "       [ 0.09561176,  0.34396535,  0.0643941 ,  0.16240774,  0.24206137,\n",
    "         0.09155967]])\n",
    "```\n",
    "\n",
    "Running it through `sess.run(tf.nn.top_k(tf.constant(a), k=3))` produces:\n",
    "\n",
    "```\n",
    "TopKV2(values=array([[ 0.34763842,  0.24879643,  0.12789202],\n",
    "       [ 0.28086119,  0.27569815,  0.18063401],\n",
    "       [ 0.26076848,  0.23892179,  0.23664738],\n",
    "       [ 0.29198961,  0.26234032,  0.16505091],\n",
    "       [ 0.34396535,  0.24206137,  0.16240774]]), indices=array([[3, 0, 5],\n",
    "       [0, 1, 4],\n",
    "       [0, 5, 1],\n",
    "       [1, 3, 5],\n",
    "       [1, 4, 3]], dtype=int32))\n",
    "```\n",
    "\n",
    "Looking just at the first row we get `[ 0.34763842,  0.24879643,  0.12789202]`, you can confirm these are the 3 largest probabilities in `a`. You'll also notice `[3, 0, 5]` are the corresponding indices."
   ]
  },
  {
   "cell_type": "code",
   "execution_count": null,
   "metadata": {
    "collapsed": false
   },
   "outputs": [],
   "source": [
    "### Print out the top five softmax probabilities for the predictions on the German traffic sign images found on the web. \n",
    "### Feel free to use as many code cells as needed.\n",
    "pred_x_top5 = sess.run(tf.nn.top_k(tf.constant(pred_x), k=5))\n",
    "print(\"The top tive softmax probs for above image:\")\n",
    "print(pred_x_top5.values)\n",
    "print(pred_x_top5.indices)"
   ]
  },
  {
   "cell_type": "markdown",
   "metadata": {},
   "source": [
    "### Project Writeup\n",
    "\n",
    "Once you have completed the code implementation, document your results in a project writeup using this [template](https://github.com/udacity/CarND-Traffic-Sign-Classifier-Project/blob/master/writeup_template.md) as a guide. The writeup can be in a markdown or pdf file. "
   ]
  },
  {
   "cell_type": "markdown",
   "metadata": {},
   "source": [
    "> **Note**: Once you have completed all of the code implementations and successfully answered each question above, you may finalize your work by exporting the iPython Notebook as an HTML document. You can do this by using the menu above and navigating to  \\n\",\n",
    "    \"**File -> Download as -> HTML (.html)**. Include the finished document along with this notebook as your submission."
   ]
  },
  {
   "cell_type": "markdown",
   "metadata": {},
   "source": [
    "---\n",
    "\n",
    "## Step 4 (Optional): Visualize the Neural Network's State with Test Images\n",
    "\n",
    " This Section is not required to complete but acts as an additional excersise for understaning the output of a neural network's weights. While neural networks can be a great learning device they are often referred to as a black box. We can understand what the weights of a neural network look like better by plotting their feature maps. After successfully training your neural network you can see what it's feature maps look like by plotting the output of the network's weight layers in response to a test stimuli image. From these plotted feature maps, it's possible to see what characteristics of an image the network finds interesting. For a sign, maybe the inner network feature maps react with high activation to the sign's boundary outline or to the contrast in the sign's painted symbol.\n",
    "\n",
    " Provided for you below is the function code that allows you to get the visualization output of any tensorflow weight layer you want. The inputs to the function should be a stimuli image, one used during training or a new one you provided, and then the tensorflow variable name that represents the layer's state during the training process, for instance if you wanted to see what the [LeNet lab's](https://classroom.udacity.com/nanodegrees/nd013/parts/fbf77062-5703-404e-b60c-95b78b2f3f9e/modules/6df7ae49-c61c-4bb2-a23e-6527e69209ec/lessons/601ae704-1035-4287-8b11-e2c2716217ad/concepts/d4aca031-508f-4e0b-b493-e7b706120f81) feature maps looked like for it's second convolutional layer you could enter conv2 as the tf_activation variable.\n",
    "\n",
    "For an example of what feature map outputs look like, check out NVIDIA's results in their paper [End-to-End Deep Learning for Self-Driving Cars](https://devblogs.nvidia.com/parallelforall/deep-learning-self-driving-cars/) in the section Visualization of internal CNN State. NVIDIA was able to show that their network's inner weights had high activations to road boundary lines by comparing feature maps from an image with a clear path to one without. Try experimenting with a similar test to show that your trained network's weights are looking for interesting features, whether it's looking at differences in feature maps from images with or without a sign, or even what feature maps look like in a trained network vs a completely untrained one on the same sign image.\n",
    "\n",
    "<figure>\n",
    " <img src=\"visualize_cnn.png\" width=\"380\" alt=\"Combined Image\" />\n",
    " <figcaption>\n",
    " <p></p> \n",
    " <p style=\"text-align: center;\"> Your output should look something like this (above)</p> \n",
    " </figcaption>\n",
    "</figure>\n",
    " <p></p> \n"
   ]
  },
  {
   "cell_type": "code",
   "execution_count": null,
   "metadata": {
    "collapsed": true
   },
   "outputs": [],
   "source": [
    "### Visualize your network's feature maps here.\n",
    "### Feel free to use as many code cells as needed.\n",
    "\n",
    "# image_input: the test image being fed into the network to produce the feature maps\n",
    "# tf_activation: should be a tf variable name used during your training procedure that represents the calculated state of a specific weight layer\n",
    "# activation_min/max: can be used to view the activation contrast in more detail, by default matplot sets min and max to the actual min and max values of the output\n",
    "# plt_num: used to plot out multiple different weight feature map sets on the same block, just extend the plt number for each new feature map entry\n",
    "\n",
    "def outputFeatureMap(image_input, tf_activation, activation_min=-1, activation_max=-1 ,plt_num=1):\n",
    "    # Here make sure to preprocess your image_input in a way your network expects\n",
    "    # with size, normalization, ect if needed\n",
    "    # image_input =\n",
    "    # Note: x should be the same name as your network's tensorflow data placeholder variable\n",
    "    # If you get an error tf_activation is not defined it may be having trouble accessing the variable from inside a function\n",
    "    activation = tf_activation.eval(session=sess,feed_dict={x : image_input})\n",
    "    featuremaps = activation.shape[3]\n",
    "    plt.figure(plt_num, figsize=(15,15))\n",
    "    for featuremap in range(featuremaps):\n",
    "        plt.subplot(6,8, featuremap+1) # sets the number of feature maps to show on each row and column\n",
    "        plt.title('FeatureMap ' + str(featuremap)) # displays the feature map number\n",
    "        if activation_min != -1 & activation_max != -1:\n",
    "            plt.imshow(activation[0,:,:, featuremap], interpolation=\"nearest\", vmin =activation_min, vmax=activation_max, cmap=\"gray\")\n",
    "        elif activation_max != -1:\n",
    "            plt.imshow(activation[0,:,:, featuremap], interpolation=\"nearest\", vmax=activation_max, cmap=\"gray\")\n",
    "        elif activation_min !=-1:\n",
    "            plt.imshow(activation[0,:,:, featuremap], interpolation=\"nearest\", vmin=activation_min, cmap=\"gray\")\n",
    "        else:\n",
    "            plt.imshow(activation[0,:,:, featuremap], interpolation=\"nearest\", cmap=\"gray\")"
   ]
  },
  {
   "cell_type": "code",
   "execution_count": null,
   "metadata": {
    "collapsed": true
   },
   "outputs": [],
   "source": [
    "ops = sess.graph.get_operations()\n",
    "ops_dict = dict()\n",
    "for op in ops:\n",
    "    ops_dict[op.name] = op.values()"
   ]
  },
  {
   "cell_type": "code",
   "execution_count": null,
   "metadata": {
    "collapsed": false
   },
   "outputs": [],
   "source": [
    "outputFeatureMap(X_data[0:1], ops_dict['Conv2D'][0])"
   ]
  },
  {
   "cell_type": "code",
   "execution_count": null,
   "metadata": {
    "collapsed": false
   },
   "outputs": [],
   "source": [
    "outputFeatureMap(X_data[0:1], ops_dict['Conv2D_1'][0])"
   ]
  },
  {
   "cell_type": "code",
   "execution_count": null,
   "metadata": {
    "collapsed": false
   },
   "outputs": [],
   "source": [
    "outputFeatureMap(X_data[0:1], ops_dict['Conv2D_2'][0])"
   ]
  },
  {
   "cell_type": "code",
   "execution_count": null,
   "metadata": {
    "collapsed": true
   },
   "outputs": [],
   "source": []
  }
 ],
 "metadata": {
  "anaconda-cloud": {},
  "kernelspec": {
   "display_name": "Python 3",
   "language": "python",
   "name": "python3"
  },
  "language_info": {
   "codemirror_mode": {
    "name": "ipython",
    "version": 3
   },
   "file_extension": ".py",
   "mimetype": "text/x-python",
   "name": "python",
   "nbconvert_exporter": "python",
   "pygments_lexer": "ipython3",
   "version": "3.6.0"
  }
 },
 "nbformat": 4,
 "nbformat_minor": 1
}
